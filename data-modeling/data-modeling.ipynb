{
 "cells": [
  {
   "cell_type": "markdown",
   "id": "8f0dcca9-c6cd-4632-8c4a-0afcc3236ef3",
   "metadata": {},
   "source": [
    "# Data Modeling"
   ]
  },
  {
   "cell_type": "markdown",
   "id": "71140b06-7d46-45f6-8ab2-cd64d3473608",
   "metadata": {},
   "source": [
    "## Introduction to the Course"
   ]
  },
  {
   "cell_type": "markdown",
   "id": "9f93c8cc-8c05-407f-abfd-696275ed82d6",
   "metadata": {},
   "source": [
    "https://www.youtube.com/watch?v=c7G8sMId7KM"
   ]
  },
  {
   "cell_type": "code",
   "execution_count": null,
   "id": "e4696f65-46e8-41be-8b25-a624fff22ac8",
   "metadata": {},
   "outputs": [],
   "source": []
  }
 ],
 "metadata": {
  "kernelspec": {
   "display_name": "Python 3 (ipykernel)",
   "language": "python",
   "name": "python3"
  },
  "language_info": {
   "codemirror_mode": {
    "name": "ipython",
    "version": 3
   },
   "file_extension": ".py",
   "mimetype": "text/x-python",
   "name": "python",
   "nbconvert_exporter": "python",
   "pygments_lexer": "ipython3",
   "version": "3.12.4"
  }
 },
 "nbformat": 4,
 "nbformat_minor": 5
}
