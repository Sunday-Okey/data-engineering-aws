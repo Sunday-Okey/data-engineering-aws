{
 "cells": [
  {
   "cell_type": "markdown",
   "id": "b078a003-155c-45c8-beb9-a42e62b7a3d4",
   "metadata": {},
   "source": [
    "# A Spark Program"
   ]
  },
  {
   "cell_type": "code",
   "execution_count": 1,
   "id": "867fa723-1550-4bfa-ae1b-227d9f6a66a4",
   "metadata": {},
   "outputs": [],
   "source": [
    "from pyspark import SparkContext, SparkConf\n",
    "from pyspark.sql import SparkSession"
   ]
  },
  {
   "cell_type": "code",
   "execution_count": 2,
   "id": "fcb845f0-599b-486f-a674-5e098a7a5a5b",
   "metadata": {},
   "outputs": [],
   "source": [
    "# configure = SparkConf().setAppName(\"name\").setMaster(\"IP Address\")\n",
    "configure = SparkConf().setAppName(\"name\").setMaster(\"local\") # for local mode\n",
    "sc = SparkContext(conf=configure)"
   ]
  },
  {
   "cell_type": "code",
   "execution_count": 3,
   "id": "ca6c1794-a5a1-48b2-af90-b8cc5d70a199",
   "metadata": {},
   "outputs": [],
   "source": [
    "spark = SparkSession \\\n",
    ".builder\\\n",
    ".appName(\"app name\")\\\n",
    ".config(\"config option\", \"config value\")\\\n",
    ".getOrCreate()\n"
   ]
  },
  {
   "cell_type": "code",
   "execution_count": 4,
   "id": "8521becf-9ab0-488e-b658-dc074c5f2012",
   "metadata": {},
   "outputs": [],
   "source": [
    "log_of_songs = [\"Despacito\",\n",
    "\"Nice for what\",\n",
    "\"No tears left to cry\",\n",
    "\"Despacito\",\n",
    "\"Havana\",\n",
    "\"In my feelings\",\n",
    "\"Nice for what\",\n",
    "\"despacito\",\n",
    "\"All the stars\"]"
   ]
  },
  {
   "cell_type": "code",
   "execution_count": 5,
   "id": "f089394c-19be-4a98-b63f-6fb95d01a0c0",
   "metadata": {},
   "outputs": [],
   "source": [
    "distributed_song_log_rdd = spark.sparkContext.parallelize(log_of_songs)"
   ]
  },
  {
   "cell_type": "code",
   "execution_count": 7,
   "id": "abe24ba0-a238-4d60-a46a-0d349807d6e6",
   "metadata": {},
   "outputs": [],
   "source": [
    "# distributed_song_log_rdd.foreach(print)"
   ]
  },
  {
   "cell_type": "code",
   "execution_count": 6,
   "id": "537b9abd-c9ef-4f2d-af83-060a7451600c",
   "metadata": {},
   "outputs": [
    {
     "name": "stdout",
     "output_type": "stream",
     "text": [
      "['Despacito', 'Nice for what', 'No tears left to cry', 'Despacito', 'Havana', 'In my feelings', 'Nice for what', 'despacito', 'All the stars']\n"
     ]
    }
   ],
   "source": [
    "def convert_song_to_lowercase(song):\n",
    "    return song.lower()\n",
    "\n",
    "distributed_song_log_rdd.map(convert_song_to_lowercase)\n",
    "print(log_of_songs)"
   ]
  },
  {
   "cell_type": "code",
   "execution_count": 7,
   "id": "b4b75858-ea79-41c4-b28c-48bccd3c77b9",
   "metadata": {},
   "outputs": [
    {
     "name": "stdout",
     "output_type": "stream",
     "text": [
      "['Despacito', 'Nice for what', 'No tears left to cry', 'Despacito', 'Havana', 'In my feelings', 'Nice for what', 'despacito', 'All the stars']\n"
     ]
    }
   ],
   "source": [
    "# distributed_song_log_rdd.map(convert_song_to_lowercase).collect()\n",
    "print(log_of_songs)"
   ]
  },
  {
   "cell_type": "code",
   "execution_count": null,
   "id": "b45c099f-20df-4859-941b-086eecdc727c",
   "metadata": {},
   "outputs": [],
   "source": []
  },
  {
   "cell_type": "code",
   "execution_count": null,
   "id": "5477fe03-39dd-4e07-ae32-66e9cda803f5",
   "metadata": {},
   "outputs": [],
   "source": []
  }
 ],
 "metadata": {
  "kernelspec": {
   "display_name": "Python 3 (ipykernel)",
   "language": "python",
   "name": "python3"
  },
  "language_info": {
   "codemirror_mode": {
    "name": "ipython",
    "version": 3
   },
   "file_extension": ".py",
   "mimetype": "text/x-python",
   "name": "python",
   "nbconvert_exporter": "python",
   "pygments_lexer": "ipython3",
   "version": "3.12.4"
  }
 },
 "nbformat": 4,
 "nbformat_minor": 5
}
